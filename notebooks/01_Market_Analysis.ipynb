{
 "cells": [
  {
   "cell_type": "markdown",
   "metadata": {},
   "source": [
    "# Market Analysis"
   ]
  },
  {
   "cell_type": "code",
   "execution_count": 3,
   "metadata": {
    "collapsed": true
   },
   "outputs": [],
   "source": [
    "from sqlalchemy import create_engine\n",
    "from sqlalchemy_utils import database_exists, create_database\n",
    "import psycopg2\n",
    "import pandas as pd\n",
    "import matplotlib.pyplot as plt\n",
    "import numpy as np\n",
    "%matplotlib inline\n",
    "\n",
    "dbname = 'mylocaldb' \n",
    "username = 'yangyang'\n",
    "\n",
    "con = None\n",
    "con = psycopg2.connect(database = dbname, user = username)"
   ]
  },
  {
   "cell_type": "markdown",
   "metadata": {},
   "source": [
    "# Registered users analysis"
   ]
  },
  {
   "cell_type": "code",
   "execution_count": 11,
   "metadata": {},
   "outputs": [
    {
     "data": {
      "image/png": "[encoded data removed]",
      "text/plain": [
       "<matplotlib.figure.Figure at 0x11989f668>"
      ]
     },
     "metadata": {},
     "output_type": "display_data"
    }
   ],
   "source": [
    "sql_query = \"\"\"\n",
    "select  users.id, users.created_at\n",
    "from users\n",
    "\"\"\"\n",
    "df = pd.read_sql_query(sql_query, con)\n",
    "df = df.set_index(['created_at'])\n",
    "ax = df.resample('2M').count().cumsum()[:-1].plot(kind='bar',legend=False)\n",
    "\n",
    "#ax.xaxis.set_major_formatter(plt.NullFormatter())\n",
    "ax.set_xlabel('')\n",
    "ax.yaxis.set_major_formatter(plt.NullFormatter())\n",
    "\n",
    "# count the registered usrers between last year Q2 and this year Q2.\n",
    "user_2016_Q2 = df[((pd.to_datetime('2016-06-01') <df.index) &\n",
    "        (df.index<pd.to_datetime('2016-09-01')))]\n",
    "\n",
    "user_2017_Q2 = df[((pd.to_datetime('2017-06-01') <df.index) &\n",
    "        (df.index<pd.to_datetime('2017-09-01')))]"
   ]
  },
  {
   "cell_type": "code",
   "execution_count": 15,
   "metadata": {},
   "outputs": [
    {
     "name": "stdout",
     "output_type": "stream",
     "text": [
      "Newly registered users 2016 Q2=1537\n",
      "Newly registered users 2017 Q2=1291\n"
     ]
    }
   ],
   "source": [
    "print(\"Newly registered users 2016 Q2={}\".format(len(user_2016_Q2)))\n",
    "print(\"Newly registered users 2017 Q2={}\".format(len(user_2017_Q2)))"
   ]
  },
  {
   "cell_type": "markdown",
   "metadata": {},
   "source": [
    "### From registered users to actual renters"
   ]
  },
  {
   "cell_type": "code",
   "execution_count": 2,
   "metadata": {},
   "outputs": [
    {
     "data": {
      "text/plain": [
       "<matplotlib.text.Text at 0x1156789e8>"
      ]
     },
     "execution_count": 2,
     "metadata": {},
     "output_type": "execute_result"
    },
    {
     "data": {
      "image/png": "[encoded data removed]",
      "text/plain": [
       "<matplotlib.figure.Figure at 0x119112748>"
      ]
     },
     "metadata": {},
     "output_type": "display_data"
    }
   ],
   "source": [
    "sql_query = \"\"\"\n",
    "select  users.id, users.created_at as user_created_at, first_rental.created_at\n",
    "FROM\n",
    "(select renter_id, min(created_at) as created_at\n",
    "from rentals\n",
    "group by renter_id\n",
    "having renter_id is not null) as first_rental\n",
    "join users\n",
    "on users.id=first_rental.renter_id\n",
    "\n",
    "\"\"\"\n",
    "df = pd.read_sql_query(sql_query,con)\n",
    "df['first_rental'] = df['created_at'].subtract(df['user_created_at']).dt.days\n",
    "\n",
    "remove_index = df.index[df['first_rental']<0]\n",
    "df = df.drop(remove_index)\n",
    "\n",
    "df['first_rental'].hist(cumulative=True)\n",
    "plt.xlabel('The separation between registration and first shopping.')\n",
    "plt.ylabel('Cumulative Frequency')\n"
   ]
  },
  {
   "cell_type": "code",
   "execution_count": 51,
   "metadata": {},
   "outputs": [
    {
     "data": {
      "text/plain": [
       "<matplotlib.text.Text at 0x119a1d860>"
      ]
     },
     "execution_count": 51,
     "metadata": {},
     "output_type": "execute_result"
    },
    {
     "data": {
      "image/png": "[encoded data removed]",
      "text/plain": [
       "<matplotlib.figure.Figure at 0x11a27d048>"
      ]
     },
     "metadata": {},
     "output_type": "display_data"
    }
   ],
   "source": [
    "df['first_rental'].plot(kind='hist',logy=True)\n",
    "plt.xlabel('The separation between registration and first shopping.')\n",
    "plt.ylabel('Frequency')"
   ]
  },
  {
   "cell_type": "markdown",
   "metadata": {},
   "source": [
    "# Rentals analysis"
   ]
  },
  {
   "cell_type": "code",
   "execution_count": null,
   "metadata": {
    "collapsed": true
   },
   "outputs": [],
   "source": []
  },
  {
   "cell_type": "code",
   "execution_count": null,
   "metadata": {
    "collapsed": true
   },
   "outputs": [],
   "source": []
  },
  {
   "cell_type": "code",
   "execution_count": null,
   "metadata": {
    "collapsed": true
   },
   "outputs": [],
   "source": []
  },
  {
   "cell_type": "code",
   "execution_count": null,
   "metadata": {
    "collapsed": true
   },
   "outputs": [],
   "source": []
  },
  {
   "cell_type": "markdown",
   "metadata": {},
   "source": [
    "END"
   ]
  }
 ],
 "metadata": {
  "anaconda-cloud": {},
  "kernelspec": {
   "display_name": "Python [Root]",
   "language": "python",
   "name": "Python [Root]"
  },
  "language_info": {
   "codemirror_mode": {
    "name": "ipython",
    "version": 3
   },
   "file_extension": ".py",
   "mimetype": "text/x-python",
   "name": "python",
   "nbconvert_exporter": "python",
   "pygments_lexer": "ipython3",
   "version": "3.5.2"
  }
 },
 "nbformat": 4,
 "nbformat_minor": 1
}
