{
 "cells": [
  {
   "cell_type": "markdown",
   "metadata": {},
   "source": [
    "# Load datasets from Style Legend"
   ]
  },
  {
   "cell_type": "code",
   "execution_count": 1,
   "metadata": {
    "collapsed": false
   },
   "outputs": [],
   "source": [
    "from sqlalchemy import create_engine\n",
    "from sqlalchemy_utils import database_exists, create_database\n",
    "import psycopg2\n",
    "import pandas as pd"
   ]
  },
  {
   "cell_type": "code",
   "execution_count": 2,
   "metadata": {
    "collapsed": true
   },
   "outputs": [],
   "source": [
    "# local pull from heroku by:\n",
    "# heroku pg:pull HEROKU_POSTGRESQL_OLIVE_URL mylocaldb --app stylelend\n",
    "\n",
    "dbname = 'mylocaldb' \n",
    "username = 'yangyang'\n",
    "\n",
    "con = None\n",
    "con = psycopg2.connect(database = dbname, user = username)"
   ]
  },
  {
   "cell_type": "markdown",
   "metadata": {},
   "source": [
    "### Rental transactions"
   ]
  },
  {
   "cell_type": "code",
   "execution_count": 3,
   "metadata": {
    "collapsed": false
   },
   "outputs": [
    {
     "name": "stdout",
     "output_type": "stream",
     "text": [
      "total rental transactions:2357\n",
      "total unique rental items: 969\n"
     ]
    },
    {
     "data": {
      "text/plain": [
       "Index(['id', 'item_id', 'rental_id', 'item_price', 'status', 'created_at',\n",
       "       'updated_at', 'fit_return', 'refunded', 'fit_return_reason',\n",
       "       'fit_return_notes'],\n",
       "      dtype='object')"
      ]
     },
     "execution_count": 3,
     "metadata": {},
     "output_type": "execute_result"
    }
   ],
   "source": [
    "sql_query = \"\"\"\n",
    "SELECT *\n",
    "FROM rental_items\n",
    "ORDER BY created_at DESC;\n",
    "\"\"\"\n",
    "rental_items = pd.read_sql_query(sql_query,con)\n",
    "print(\"total rental transactions:{}\".format(len(rental_items)))\n",
    "print(\"total unique rental items: {}\".format(len(rental_items['item_id'].unique())))\n",
    "rental_items.columns"
   ]
  },
  {
   "cell_type": "markdown",
   "metadata": {},
   "source": [
    "### Rental orders\n"
   ]
  },
  {
   "cell_type": "code",
   "execution_count": 17,
   "metadata": {
    "collapsed": false
   },
   "outputs": [
    {
     "data": {
      "text/plain": [
       "Index(['id', 'renter_id', 'claimed_by_id', 'delivered_by_id',\n",
       "       'picked_up_by_id', 'rental_date', 'return_date', 'sku',\n",
       "       'internal_status', 'external_status', 'delivery_option',\n",
       "       'delivery_price', 'insurance_price', 'total_cost', 'returned_at',\n",
       "       'created_at', 'updated_at', 'wallet_transfer_status', 'payment_id',\n",
       "       'admin_notes', 'cancel_reason', 'cancel_notes', 'platform',\n",
       "       'rental_length', 'sale', 'on_subscription', 'subscription_credit'],\n",
       "      dtype='object')"
      ]
     },
     "execution_count": 17,
     "metadata": {},
     "output_type": "execute_result"
    }
   ],
   "source": [
    "sql_query = \"\"\"\n",
    "SELECT * \n",
    "FROM rentals \n",
    "ORDER BY rental_date DESC\n",
    "\"\"\"\n",
    "rental_orders = pd.read_sql_query(sql_query,con)\n",
    "rental_orders.head()\n",
    "rental_orders.columns\n"
   ]
  },
  {
   "cell_type": "markdown",
   "metadata": {},
   "source": [
    "### Items"
   ]
  },
  {
   "cell_type": "code",
   "execution_count": 6,
   "metadata": {
    "collapsed": false
   },
   "outputs": [
    {
     "name": "stdout",
     "output_type": "stream",
     "text": [
      "total items:6403\n"
     ]
    },
    {
     "data": {
      "text/html": [
       "<div>\n",
       "<table border=\"1\" class=\"dataframe\">\n",
       "  <thead>\n",
       "    <tr style=\"text-align: right;\">\n",
       "      <th></th>\n",
       "      <th>id</th>\n",
       "      <th>item_type</th>\n",
       "      <th>size</th>\n",
       "      <th>title</th>\n",
       "      <th>description</th>\n",
       "      <th>brand</th>\n",
       "      <th>cost</th>\n",
       "      <th>rent_per_week</th>\n",
       "      <th>user_id</th>\n",
       "      <th>created_at</th>\n",
       "      <th>...</th>\n",
       "      <th>admin_notes</th>\n",
       "      <th>purchased_fake</th>\n",
       "      <th>photo_status</th>\n",
       "      <th>condition</th>\n",
       "      <th>model</th>\n",
       "      <th>for_sale</th>\n",
       "      <th>sale_price</th>\n",
       "      <th>only_for_sale</th>\n",
       "      <th>oversized</th>\n",
       "      <th>virtual_try_url</th>\n",
       "    </tr>\n",
       "  </thead>\n",
       "  <tbody>\n",
       "    <tr>\n",
       "      <th>0</th>\n",
       "      <td>8323</td>\n",
       "      <td>dresses</td>\n",
       "      <td>One-Size</td>\n",
       "      <td>Essex beauty Sam Faiers wore the For Love And ...</td>\n",
       "      <td>None</td>\n",
       "      <td>For Love &amp; Lemons</td>\n",
       "      <td>350.0</td>\n",
       "      <td>35.0</td>\n",
       "      <td>3</td>\n",
       "      <td>2017-09-05 15:32:09.894014</td>\n",
       "      <td>...</td>\n",
       "      <td>None</td>\n",
       "      <td>False</td>\n",
       "      <td>NaN</td>\n",
       "      <td>NaN</td>\n",
       "      <td>None</td>\n",
       "      <td>True</td>\n",
       "      <td>NaN</td>\n",
       "      <td>None</td>\n",
       "      <td>None</td>\n",
       "      <td>None</td>\n",
       "    </tr>\n",
       "    <tr>\n",
       "      <th>1</th>\n",
       "      <td>8322</td>\n",
       "      <td>dresses</td>\n",
       "      <td>2</td>\n",
       "      <td>Mykal Pintuck Mini Dress</td>\n",
       "      <td>Racerback knit dress with crewneck, ribbed col...</td>\n",
       "      <td>Ronny Kobo</td>\n",
       "      <td>398.0</td>\n",
       "      <td>40.0</td>\n",
       "      <td>15212</td>\n",
       "      <td>2017-08-31 18:15:41.061169</td>\n",
       "      <td>...</td>\n",
       "      <td>None</td>\n",
       "      <td>False</td>\n",
       "      <td>NaN</td>\n",
       "      <td>1.0</td>\n",
       "      <td>None</td>\n",
       "      <td>None</td>\n",
       "      <td>NaN</td>\n",
       "      <td>None</td>\n",
       "      <td>None</td>\n",
       "      <td>None</td>\n",
       "    </tr>\n",
       "  </tbody>\n",
       "</table>\n",
       "<p>2 rows × 45 columns</p>\n",
       "</div>"
      ],
      "text/plain": [
       "     id item_type      size  \\\n",
       "0  8323   dresses  One-Size   \n",
       "1  8322   dresses         2   \n",
       "\n",
       "                                               title  \\\n",
       "0  Essex beauty Sam Faiers wore the For Love And ...   \n",
       "1                           Mykal Pintuck Mini Dress   \n",
       "\n",
       "                                         description              brand  \\\n",
       "0                                               None  For Love & Lemons   \n",
       "1  Racerback knit dress with crewneck, ribbed col...         Ronny Kobo   \n",
       "\n",
       "    cost  rent_per_week  user_id                 created_at       ...        \\\n",
       "0  350.0           35.0        3 2017-09-05 15:32:09.894014       ...         \n",
       "1  398.0           40.0    15212 2017-08-31 18:15:41.061169       ...         \n",
       "\n",
       "  admin_notes  purchased_fake photo_status condition model for_sale  \\\n",
       "0        None           False          NaN       NaN  None     True   \n",
       "1        None           False          NaN       1.0  None     None   \n",
       "\n",
       "  sale_price only_for_sale oversized virtual_try_url  \n",
       "0        NaN          None      None            None  \n",
       "1        NaN          None      None            None  \n",
       "\n",
       "[2 rows x 45 columns]"
      ]
     },
     "execution_count": 6,
     "metadata": {},
     "output_type": "execute_result"
    }
   ],
   "source": [
    "sql_query = \"\"\"\n",
    "SELECT *\n",
    "FROM items\n",
    "ORDER BY created_at DESC;\n",
    "\"\"\"\n",
    "items = pd.read_sql_query(sql_query,con)\n",
    "print(\"total items:{}\".format(len(items)))\n",
    "items.head(2)"
   ]
  },
  {
   "cell_type": "code",
   "execution_count": 7,
   "metadata": {
    "collapsed": false
   },
   "outputs": [
    {
     "data": {
      "text/plain": [
       "Index(['id', 'item_type', 'size', 'title', 'description', 'brand', 'cost',\n",
       "       'rent_per_week', 'user_id', 'created_at', 'updated_at', 'main_image_id',\n",
       "       'removed_at', 'slug', 'sku', 'fit_description', 'removed',\n",
       "       'maintenance', 'location', 'approved', 'approved_by_id', 'approved_at',\n",
       "       'year_purchased', 'color', 'listing_type', 'neighborhood',\n",
       "       'delivery_option', 'promoted', 'status', 'time_zone', 'rack', 'slot',\n",
       "       'review_count', 'review_rating', 'review_fit', 'admin_notes',\n",
       "       'purchased_fake', 'photo_status', 'condition', 'model', 'for_sale',\n",
       "       'sale_price', 'only_for_sale', 'oversized', 'virtual_try_url'],\n",
       "      dtype='object')"
      ]
     },
     "execution_count": 7,
     "metadata": {},
     "output_type": "execute_result"
    }
   ],
   "source": [
    "items.columns"
   ]
  },
  {
   "cell_type": "markdown",
   "metadata": {},
   "source": [
    "### Users"
   ]
  },
  {
   "cell_type": "code",
   "execution_count": 9,
   "metadata": {
    "collapsed": false
   },
   "outputs": [
    {
     "name": "stdout",
     "output_type": "stream",
     "text": [
      "total number of users: 27818\n"
     ]
    },
    {
     "data": {
      "text/html": [
       "<div>\n",
       "<table border=\"1\" class=\"dataframe\">\n",
       "  <thead>\n",
       "    <tr style=\"text-align: right;\">\n",
       "      <th></th>\n",
       "      <th>id</th>\n",
       "      <th>email</th>\n",
       "      <th>encrypted_password</th>\n",
       "      <th>reset_password_token</th>\n",
       "      <th>reset_password_sent_at</th>\n",
       "      <th>remember_created_at</th>\n",
       "      <th>sign_in_count</th>\n",
       "      <th>current_sign_in_at</th>\n",
       "      <th>last_sign_in_at</th>\n",
       "      <th>current_sign_in_ip</th>\n",
       "      <th>...</th>\n",
       "      <th>verification_token_expires_at</th>\n",
       "      <th>received_lender_intro_email</th>\n",
       "      <th>wallet_current_balance</th>\n",
       "      <th>wallet_total_earnings</th>\n",
       "      <th>onfleet_recipient_id</th>\n",
       "      <th>time_zone</th>\n",
       "      <th>last_active_at</th>\n",
       "      <th>admin_notes</th>\n",
       "      <th>active_subscriber</th>\n",
       "      <th>subscription_credits</th>\n",
       "    </tr>\n",
       "  </thead>\n",
       "  <tbody>\n",
       "    <tr>\n",
       "      <th>0</th>\n",
       "      <td>29100</td>\n",
       "      <td>ravikumar.sankara@gmail.com</td>\n",
       "      <td>$2a$10$PaVi2xyiUbkpflqJgL2gEekacH7uqvcn4Vc.pxs...</td>\n",
       "      <td>None</td>\n",
       "      <td>None</td>\n",
       "      <td>None</td>\n",
       "      <td>3</td>\n",
       "      <td>2017-09-07 17:54:48.077829</td>\n",
       "      <td>2017-09-07 17:54:45.110568</td>\n",
       "      <td>162.158.166.152</td>\n",
       "      <td>...</td>\n",
       "      <td>None</td>\n",
       "      <td>False</td>\n",
       "      <td>0.0</td>\n",
       "      <td>0.0</td>\n",
       "      <td>None</td>\n",
       "      <td>America/New_York</td>\n",
       "      <td>2017-09-07 17:54:48.113224</td>\n",
       "      <td>None</td>\n",
       "      <td>None</td>\n",
       "      <td>NaN</td>\n",
       "    </tr>\n",
       "    <tr>\n",
       "      <th>1</th>\n",
       "      <td>29099</td>\n",
       "      <td>abdulmajeed_ms@hotmail.com</td>\n",
       "      <td>$2a$10$rGuUuMnoCYuAdHuoiMKqfuvL3UalP66F5PMNWh7...</td>\n",
       "      <td>None</td>\n",
       "      <td>None</td>\n",
       "      <td>None</td>\n",
       "      <td>5</td>\n",
       "      <td>2017-09-07 16:45:09.483358</td>\n",
       "      <td>2017-09-07 16:42:33.576968</td>\n",
       "      <td>162.158.89.163</td>\n",
       "      <td>...</td>\n",
       "      <td>None</td>\n",
       "      <td>False</td>\n",
       "      <td>0.0</td>\n",
       "      <td>0.0</td>\n",
       "      <td>None</td>\n",
       "      <td>America/New_York</td>\n",
       "      <td>2017-09-07 16:45:09.611521</td>\n",
       "      <td>None</td>\n",
       "      <td>None</td>\n",
       "      <td>NaN</td>\n",
       "    </tr>\n",
       "  </tbody>\n",
       "</table>\n",
       "<p>2 rows × 56 columns</p>\n",
       "</div>"
      ],
      "text/plain": [
       "      id                        email  \\\n",
       "0  29100  ravikumar.sankara@gmail.com   \n",
       "1  29099   abdulmajeed_ms@hotmail.com   \n",
       "\n",
       "                                  encrypted_password reset_password_token  \\\n",
       "0  $2a$10$PaVi2xyiUbkpflqJgL2gEekacH7uqvcn4Vc.pxs...                 None   \n",
       "1  $2a$10$rGuUuMnoCYuAdHuoiMKqfuvL3UalP66F5PMNWh7...                 None   \n",
       "\n",
       "  reset_password_sent_at remember_created_at  sign_in_count  \\\n",
       "0                   None                None              3   \n",
       "1                   None                None              5   \n",
       "\n",
       "          current_sign_in_at            last_sign_in_at current_sign_in_ip  \\\n",
       "0 2017-09-07 17:54:48.077829 2017-09-07 17:54:45.110568    162.158.166.152   \n",
       "1 2017-09-07 16:45:09.483358 2017-09-07 16:42:33.576968     162.158.89.163   \n",
       "\n",
       "          ...          verification_token_expires_at  \\\n",
       "0         ...                                   None   \n",
       "1         ...                                   None   \n",
       "\n",
       "  received_lender_intro_email wallet_current_balance wallet_total_earnings  \\\n",
       "0                       False                    0.0                   0.0   \n",
       "1                       False                    0.0                   0.0   \n",
       "\n",
       "  onfleet_recipient_id         time_zone             last_active_at  \\\n",
       "0                 None  America/New_York 2017-09-07 17:54:48.113224   \n",
       "1                 None  America/New_York 2017-09-07 16:45:09.611521   \n",
       "\n",
       "  admin_notes active_subscriber subscription_credits  \n",
       "0        None              None                  NaN  \n",
       "1        None              None                  NaN  \n",
       "\n",
       "[2 rows x 56 columns]"
      ]
     },
     "execution_count": 9,
     "metadata": {},
     "output_type": "execute_result"
    }
   ],
   "source": [
    "sql_query = \"\"\"\n",
    "SELECT *\n",
    "FROM users\n",
    "ORDER BY created_at DESC;\n",
    "\"\"\"\n",
    "users_all = pd.read_sql_query(sql_query,con)\n",
    "print(\"total number of users: {}\".format(len(users_all)))\n",
    "users.head(2)"
   ]
  },
  {
   "cell_type": "code",
   "execution_count": 11,
   "metadata": {
    "collapsed": false
   },
   "outputs": [],
   "source": [
    "keep_cols = ['id','sign_in_count','date_of_birth','zip', 'facebook_profile',\n",
    "             'bust','waist','hips','height_feet','height_inches',\n",
    "             'discount','wallet_total_earnings','received_lender_intro_email',\n",
    "            'bio','agent']\n",
    "users = users_all[keep_cols]"
   ]
  },
  {
   "cell_type": "code",
   "execution_count": 14,
   "metadata": {
    "collapsed": false
   },
   "outputs": [
    {
     "data": {
      "text/plain": [
       "14530"
      ]
     },
     "execution_count": 14,
     "metadata": {},
     "output_type": "execute_result"
    }
   ],
   "source": [
    "sum(~users['facebook_profile'].isnull())"
   ]
  },
  {
   "cell_type": "code",
   "execution_count": null,
   "metadata": {
    "collapsed": true
   },
   "outputs": [],
   "source": []
  },
  {
   "cell_type": "code",
   "execution_count": null,
   "metadata": {
    "collapsed": true
   },
   "outputs": [],
   "source": []
  },
  {
   "cell_type": "code",
   "execution_count": null,
   "metadata": {
    "collapsed": true
   },
   "outputs": [],
   "source": []
  },
  {
   "cell_type": "code",
   "execution_count": null,
   "metadata": {
    "collapsed": true
   },
   "outputs": [],
   "source": []
  },
  {
   "cell_type": "code",
   "execution_count": null,
   "metadata": {
    "collapsed": true
   },
   "outputs": [],
   "source": []
  },
  {
   "cell_type": "code",
   "execution_count": 71,
   "metadata": {
    "collapsed": true
   },
   "outputs": [],
   "source": [
    "import seaborn as sns\n",
    "import matplotlib.pyplot as plt\n",
    "% matplotlib inline"
   ]
  },
  {
   "cell_type": "code",
   "execution_count": 86,
   "metadata": {
    "collapsed": false
   },
   "outputs": [
    {
     "data": {
      "image/png": "[encoded data removed]",
      "text/plain": [
       "<matplotlib.figure.Figure at 0x1a82fcc50>"
      ]
     },
     "metadata": {},
     "output_type": "display_data"
    }
   ],
   "source": [
    "ax = sns.countplot(x='received_lender_intro_email', data=users)"
   ]
  },
  {
   "cell_type": "code",
   "execution_count": 88,
   "metadata": {
    "collapsed": false
   },
   "outputs": [
    {
     "data": {
      "image/png": "[encoded data removed]",
      "text/plain": [
       "<matplotlib.figure.Figure at 0x1a83a92e8>"
      ]
     },
     "metadata": {},
     "output_type": "display_data"
    }
   ],
   "source": [
    "ax = sns.barplot(x='received_lender_intro_email',y='wallet_total_earnings',data=users)"
   ]
  },
  {
   "cell_type": "code",
   "execution_count": 84,
   "metadata": {
    "collapsed": false
   },
   "outputs": [
    {
     "data": {
      "text/html": [
       "<div>\n",
       "<table border=\"1\" class=\"dataframe\">\n",
       "  <thead>\n",
       "    <tr style=\"text-align: right;\">\n",
       "      <th></th>\n",
       "      <th>id</th>\n",
       "      <th>email</th>\n",
       "      <th>encrypted_password</th>\n",
       "      <th>reset_password_token</th>\n",
       "      <th>reset_password_sent_at</th>\n",
       "      <th>remember_created_at</th>\n",
       "      <th>sign_in_count</th>\n",
       "      <th>current_sign_in_at</th>\n",
       "      <th>last_sign_in_at</th>\n",
       "      <th>current_sign_in_ip</th>\n",
       "      <th>...</th>\n",
       "      <th>verification_token_expires_at</th>\n",
       "      <th>received_lender_intro_email</th>\n",
       "      <th>wallet_current_balance</th>\n",
       "      <th>wallet_total_earnings</th>\n",
       "      <th>onfleet_recipient_id</th>\n",
       "      <th>time_zone</th>\n",
       "      <th>last_active_at</th>\n",
       "      <th>admin_notes</th>\n",
       "      <th>active_subscriber</th>\n",
       "      <th>subscription_credits</th>\n",
       "    </tr>\n",
       "  </thead>\n",
       "  <tbody>\n",
       "    <tr>\n",
       "      <th>0</th>\n",
       "      <td>29100</td>\n",
       "      <td>ravikumar.sankara@gmail.com</td>\n",
       "      <td>$2a$10$PaVi2xyiUbkpflqJgL2gEekacH7uqvcn4Vc.pxs...</td>\n",
       "      <td>None</td>\n",
       "      <td>None</td>\n",
       "      <td>None</td>\n",
       "      <td>3</td>\n",
       "      <td>2017-09-07 17:54:48.077829</td>\n",
       "      <td>2017-09-07 17:54:45.110568</td>\n",
       "      <td>162.158.166.152</td>\n",
       "      <td>...</td>\n",
       "      <td>None</td>\n",
       "      <td>False</td>\n",
       "      <td>0.0</td>\n",
       "      <td>0.0</td>\n",
       "      <td>None</td>\n",
       "      <td>America/New_York</td>\n",
       "      <td>2017-09-07 17:54:48.113224</td>\n",
       "      <td>None</td>\n",
       "      <td>None</td>\n",
       "      <td>NaN</td>\n",
       "    </tr>\n",
       "    <tr>\n",
       "      <th>1</th>\n",
       "      <td>29099</td>\n",
       "      <td>abdulmajeed_ms@hotmail.com</td>\n",
       "      <td>$2a$10$rGuUuMnoCYuAdHuoiMKqfuvL3UalP66F5PMNWh7...</td>\n",
       "      <td>None</td>\n",
       "      <td>None</td>\n",
       "      <td>None</td>\n",
       "      <td>5</td>\n",
       "      <td>2017-09-07 16:45:09.483358</td>\n",
       "      <td>2017-09-07 16:42:33.576968</td>\n",
       "      <td>162.158.89.163</td>\n",
       "      <td>...</td>\n",
       "      <td>None</td>\n",
       "      <td>False</td>\n",
       "      <td>0.0</td>\n",
       "      <td>0.0</td>\n",
       "      <td>None</td>\n",
       "      <td>America/New_York</td>\n",
       "      <td>2017-09-07 16:45:09.611521</td>\n",
       "      <td>None</td>\n",
       "      <td>None</td>\n",
       "      <td>NaN</td>\n",
       "    </tr>\n",
       "    <tr>\n",
       "      <th>2</th>\n",
       "      <td>29098</td>\n",
       "      <td>jzhou242@wisc.edu</td>\n",
       "      <td>$2a$10$MHUhpEYtC4LIlM11yFjQA.Y6guck3oJL77sCi02...</td>\n",
       "      <td>None</td>\n",
       "      <td>None</td>\n",
       "      <td>None</td>\n",
       "      <td>6</td>\n",
       "      <td>2017-09-07 16:04:06.509908</td>\n",
       "      <td>2017-09-07 15:58:55.796062</td>\n",
       "      <td>108.162.215.71</td>\n",
       "      <td>...</td>\n",
       "      <td>None</td>\n",
       "      <td>False</td>\n",
       "      <td>0.0</td>\n",
       "      <td>0.0</td>\n",
       "      <td>None</td>\n",
       "      <td>America/New_York</td>\n",
       "      <td>2017-09-07 16:04:06.557893</td>\n",
       "      <td>None</td>\n",
       "      <td>None</td>\n",
       "      <td>NaN</td>\n",
       "    </tr>\n",
       "    <tr>\n",
       "      <th>3</th>\n",
       "      <td>29097</td>\n",
       "      <td>elizabeth.l.cline@gmail.com</td>\n",
       "      <td>$2a$10$BjV1ZqF2oEKUdDtp5CqppOHM73gg7aWTFvxbWmA...</td>\n",
       "      <td>None</td>\n",
       "      <td>None</td>\n",
       "      <td>None</td>\n",
       "      <td>6</td>\n",
       "      <td>2017-09-07 15:48:30.328213</td>\n",
       "      <td>2017-09-07 15:48:01.846136</td>\n",
       "      <td>162.158.78.33</td>\n",
       "      <td>...</td>\n",
       "      <td>None</td>\n",
       "      <td>False</td>\n",
       "      <td>0.0</td>\n",
       "      <td>0.0</td>\n",
       "      <td>None</td>\n",
       "      <td>America/New_York</td>\n",
       "      <td>2017-09-07 15:48:30.410500</td>\n",
       "      <td>None</td>\n",
       "      <td>None</td>\n",
       "      <td>NaN</td>\n",
       "    </tr>\n",
       "    <tr>\n",
       "      <th>4</th>\n",
       "      <td>29096</td>\n",
       "      <td>stephaniec@mutual.com.br</td>\n",
       "      <td>$2a$10$8B2FmEH34MsxF5IgiTReSeDPoAVCFsT9nFUSARf...</td>\n",
       "      <td>None</td>\n",
       "      <td>None</td>\n",
       "      <td>None</td>\n",
       "      <td>15</td>\n",
       "      <td>2017-09-07 18:40:24.349895</td>\n",
       "      <td>2017-09-07 18:38:35.734816</td>\n",
       "      <td>108.162.219.226</td>\n",
       "      <td>...</td>\n",
       "      <td>None</td>\n",
       "      <td>False</td>\n",
       "      <td>0.0</td>\n",
       "      <td>0.0</td>\n",
       "      <td>None</td>\n",
       "      <td>America/New_York</td>\n",
       "      <td>2017-09-07 18:40:24.379681</td>\n",
       "      <td>None</td>\n",
       "      <td>None</td>\n",
       "      <td>NaN</td>\n",
       "    </tr>\n",
       "  </tbody>\n",
       "</table>\n",
       "<p>5 rows × 56 columns</p>\n",
       "</div>"
      ],
      "text/plain": [
       "      id                        email  \\\n",
       "0  29100  ravikumar.sankara@gmail.com   \n",
       "1  29099   abdulmajeed_ms@hotmail.com   \n",
       "2  29098            jzhou242@wisc.edu   \n",
       "3  29097  elizabeth.l.cline@gmail.com   \n",
       "4  29096     stephaniec@mutual.com.br   \n",
       "\n",
       "                                  encrypted_password reset_password_token  \\\n",
       "0  $2a$10$PaVi2xyiUbkpflqJgL2gEekacH7uqvcn4Vc.pxs...                 None   \n",
       "1  $2a$10$rGuUuMnoCYuAdHuoiMKqfuvL3UalP66F5PMNWh7...                 None   \n",
       "2  $2a$10$MHUhpEYtC4LIlM11yFjQA.Y6guck3oJL77sCi02...                 None   \n",
       "3  $2a$10$BjV1ZqF2oEKUdDtp5CqppOHM73gg7aWTFvxbWmA...                 None   \n",
       "4  $2a$10$8B2FmEH34MsxF5IgiTReSeDPoAVCFsT9nFUSARf...                 None   \n",
       "\n",
       "  reset_password_sent_at remember_created_at  sign_in_count  \\\n",
       "0                   None                None              3   \n",
       "1                   None                None              5   \n",
       "2                   None                None              6   \n",
       "3                   None                None              6   \n",
       "4                   None                None             15   \n",
       "\n",
       "          current_sign_in_at            last_sign_in_at current_sign_in_ip  \\\n",
       "0 2017-09-07 17:54:48.077829 2017-09-07 17:54:45.110568    162.158.166.152   \n",
       "1 2017-09-07 16:45:09.483358 2017-09-07 16:42:33.576968     162.158.89.163   \n",
       "2 2017-09-07 16:04:06.509908 2017-09-07 15:58:55.796062     108.162.215.71   \n",
       "3 2017-09-07 15:48:30.328213 2017-09-07 15:48:01.846136      162.158.78.33   \n",
       "4 2017-09-07 18:40:24.349895 2017-09-07 18:38:35.734816    108.162.219.226   \n",
       "\n",
       "          ...          verification_token_expires_at  \\\n",
       "0         ...                                   None   \n",
       "1         ...                                   None   \n",
       "2         ...                                   None   \n",
       "3         ...                                   None   \n",
       "4         ...                                   None   \n",
       "\n",
       "  received_lender_intro_email wallet_current_balance wallet_total_earnings  \\\n",
       "0                       False                    0.0                   0.0   \n",
       "1                       False                    0.0                   0.0   \n",
       "2                       False                    0.0                   0.0   \n",
       "3                       False                    0.0                   0.0   \n",
       "4                       False                    0.0                   0.0   \n",
       "\n",
       "  onfleet_recipient_id         time_zone             last_active_at  \\\n",
       "0                 None  America/New_York 2017-09-07 17:54:48.113224   \n",
       "1                 None  America/New_York 2017-09-07 16:45:09.611521   \n",
       "2                 None  America/New_York 2017-09-07 16:04:06.557893   \n",
       "3                 None  America/New_York 2017-09-07 15:48:30.410500   \n",
       "4                 None  America/New_York 2017-09-07 18:40:24.379681   \n",
       "\n",
       "  admin_notes active_subscriber subscription_credits  \n",
       "0        None              None                  NaN  \n",
       "1        None              None                  NaN  \n",
       "2        None              None                  NaN  \n",
       "3        None              None                  NaN  \n",
       "4        None              None                  NaN  \n",
       "\n",
       "[5 rows x 56 columns]"
      ]
     },
     "execution_count": 84,
     "metadata": {},
     "output_type": "execute_result"
    },
    {
     "name": "stdout",
     "output_type": "stream",
     "text": [
      "ERROR! Session/line number was not unique in database. History logging moved to new session 261\n"
     ]
    }
   ],
   "source": [
    "users.head()"
   ]
  },
  {
   "cell_type": "code",
   "execution_count": null,
   "metadata": {
    "collapsed": true
   },
   "outputs": [],
   "source": []
  },
  {
   "cell_type": "code",
   "execution_count": null,
   "metadata": {
    "collapsed": true
   },
   "outputs": [],
   "source": []
  },
  {
   "cell_type": "code",
   "execution_count": null,
   "metadata": {
    "collapsed": true
   },
   "outputs": [],
   "source": []
  },
  {
   "cell_type": "code",
   "execution_count": null,
   "metadata": {
    "collapsed": true
   },
   "outputs": [],
   "source": []
  },
  {
   "cell_type": "code",
   "execution_count": null,
   "metadata": {
    "collapsed": true
   },
   "outputs": [],
   "source": []
  },
  {
   "cell_type": "code",
   "execution_count": 33,
   "metadata": {
    "collapsed": false
   },
   "outputs": [],
   "source": [
    "total_earnings = users.sort_values(['wallet_total_earnings'],ascending=False)[['id','email','wallet_total_earnings']]"
   ]
  },
  {
   "cell_type": "code",
   "execution_count": 35,
   "metadata": {
    "collapsed": false
   },
   "outputs": [
    {
     "data": {
      "text/html": [
       "<div>\n",
       "<table border=\"1\" class=\"dataframe\">\n",
       "  <thead>\n",
       "    <tr style=\"text-align: right;\">\n",
       "      <th></th>\n",
       "      <th>id</th>\n",
       "      <th>email</th>\n",
       "      <th>wallet_total_earnings</th>\n",
       "    </tr>\n",
       "  </thead>\n",
       "  <tbody>\n",
       "    <tr>\n",
       "      <th>4502</th>\n",
       "      <td>24530</td>\n",
       "      <td>raquel.nascimento@farfetch.com</td>\n",
       "      <td>2211.0</td>\n",
       "    </tr>\n",
       "    <tr>\n",
       "      <th>11137</th>\n",
       "      <td>17476</td>\n",
       "      <td>missamychan@gmail.com</td>\n",
       "      <td>2185.0</td>\n",
       "    </tr>\n",
       "    <tr>\n",
       "      <th>17216</th>\n",
       "      <td>11379</td>\n",
       "      <td>mimidob@hotmail.com</td>\n",
       "      <td>1589.5</td>\n",
       "    </tr>\n",
       "    <tr>\n",
       "      <th>12517</th>\n",
       "      <td>16093</td>\n",
       "      <td>alexandra.duisberg@gmail.com</td>\n",
       "      <td>1402.5</td>\n",
       "    </tr>\n",
       "    <tr>\n",
       "      <th>19172</th>\n",
       "      <td>9384</td>\n",
       "      <td>dborchiver@gmail.com</td>\n",
       "      <td>1100.0</td>\n",
       "    </tr>\n",
       "  </tbody>\n",
       "</table>\n",
       "</div>"
      ],
      "text/plain": [
       "          id                           email  wallet_total_earnings\n",
       "4502   24530  raquel.nascimento@farfetch.com                 2211.0\n",
       "11137  17476           missamychan@gmail.com                 2185.0\n",
       "17216  11379             mimidob@hotmail.com                 1589.5\n",
       "12517  16093    alexandra.duisberg@gmail.com                 1402.5\n",
       "19172   9384            dborchiver@gmail.com                 1100.0"
      ]
     },
     "execution_count": 35,
     "metadata": {},
     "output_type": "execute_result"
    }
   ],
   "source": [
    "total_earnings.head(5)"
   ]
  },
  {
   "cell_type": "markdown",
   "metadata": {},
   "source": [
    "### Rental items"
   ]
  },
  {
   "cell_type": "code",
   "execution_count": 27,
   "metadata": {
    "collapsed": false
   },
   "outputs": [
    {
     "data": {
      "text/html": [
       "<div>\n",
       "<table border=\"1\" class=\"dataframe\">\n",
       "  <thead>\n",
       "    <tr style=\"text-align: right;\">\n",
       "      <th></th>\n",
       "      <th>rental_count</th>\n",
       "      <th>id</th>\n",
       "      <th>item_type</th>\n",
       "      <th>rent_per_week</th>\n",
       "      <th>cost</th>\n",
       "      <th>title</th>\n",
       "      <th>brand</th>\n",
       "      <th>sku</th>\n",
       "      <th>removed</th>\n",
       "      <th>color</th>\n",
       "      <th>promoted</th>\n",
       "      <th>created_at</th>\n",
       "    </tr>\n",
       "  </thead>\n",
       "  <tbody>\n",
       "    <tr>\n",
       "      <th>0</th>\n",
       "      <td>30</td>\n",
       "      <td>2731</td>\n",
       "      <td>dresses</td>\n",
       "      <td>78.0</td>\n",
       "      <td>560.0</td>\n",
       "      <td>Scallop High Neck Midi Dress</td>\n",
       "      <td>Self-Portrait</td>\n",
       "      <td>N2002510</td>\n",
       "      <td>False</td>\n",
       "      <td>blue</td>\n",
       "      <td>2.0</td>\n",
       "      <td>2015-09-18 17:40:55.227027</td>\n",
       "    </tr>\n",
       "    <tr>\n",
       "      <th>1</th>\n",
       "      <td>24</td>\n",
       "      <td>2815</td>\n",
       "      <td>dresses</td>\n",
       "      <td>70.0</td>\n",
       "      <td>530.0</td>\n",
       "      <td>Short-Sleeve Guipure-Lace Midi Dress</td>\n",
       "      <td>Self-Portrait</td>\n",
       "      <td></td>\n",
       "      <td>False</td>\n",
       "      <td>red</td>\n",
       "      <td>2.0</td>\n",
       "      <td>2015-09-29 17:28:43.807967</td>\n",
       "    </tr>\n",
       "  </tbody>\n",
       "</table>\n",
       "</div>"
      ],
      "text/plain": [
       "   rental_count    id item_type  rent_per_week   cost  \\\n",
       "0            30  2731   dresses           78.0  560.0   \n",
       "1            24  2815   dresses           70.0  530.0   \n",
       "\n",
       "                                  title           brand       sku removed  \\\n",
       "0          Scallop High Neck Midi Dress   Self-Portrait  N2002510   False   \n",
       "1  Short-Sleeve Guipure-Lace Midi Dress  Self-Portrait              False   \n",
       "\n",
       "  color  promoted                 created_at  \n",
       "0  blue       2.0 2015-09-18 17:40:55.227027  \n",
       "1   red       2.0 2015-09-29 17:28:43.807967  "
      ]
     },
     "execution_count": 27,
     "metadata": {},
     "output_type": "execute_result"
    }
   ],
   "source": [
    "sql_query = \"\"\"\n",
    "SELECT\n",
    "  count(items.id) as rental_count,\n",
    "  \"items\".id,\n",
    "  \"items\".item_type,\n",
    "  \"items\".rent_per_week,\n",
    "  \"items\".cost,\n",
    "  \"items\".title,\n",
    "  \"items\".brand,\n",
    "  \"items\".sku,\n",
    "  \"items\".removed,\n",
    "  \"items\".color,\n",
    "  \"items\".promoted,\n",
    "  \"items\".created_at\n",
    "FROM \"items\" \n",
    "INNER JOIN \"rental_items\" ON \"rental_items\".\"item_id\" = \"items\".\"id\"\n",
    "GROUP BY items.id  \n",
    "ORDER BY count(items.id) DESC\n",
    "\"\"\"\n",
    "\n",
    "rental_items = pd.read_sql_query(sql_query,con)\n",
    "rental_items.head(2)"
   ]
  },
  {
   "cell_type": "markdown",
   "metadata": {},
   "source": [
    "### Others"
   ]
  },
  {
   "cell_type": "code",
   "execution_count": 91,
   "metadata": {
    "collapsed": false
   },
   "outputs": [
    {
     "data": {
      "text/plain": [
       "Index(['id', 'user_id', 'token', 'scope', 'expires_at', 'created_at',\n",
       "       'updated_at'],\n",
       "      dtype='object')"
      ]
     },
     "execution_count": 91,
     "metadata": {},
     "output_type": "execute_result"
    }
   ],
   "source": [
    "sql_query = \"\"\"\n",
    "SELECT * from access_tokens\n",
    "\"\"\"\n",
    "access_tokens = pd.read_sql_query(sql_query,con)\n",
    "access_tokens.columns"
   ]
  },
  {
   "cell_type": "markdown",
   "metadata": {},
   "source": [
    "### Categories"
   ]
  },
  {
   "cell_type": "code",
   "execution_count": 67,
   "metadata": {
    "collapsed": false
   },
   "outputs": [
    {
     "data": {
      "text/plain": [
       "2796"
      ]
     },
     "execution_count": 67,
     "metadata": {},
     "output_type": "execute_result"
    }
   ],
   "source": [
    "sql_query = \"\"\"\n",
    "SELECT * from measurements\n",
    "\"\"\"\n",
    "df = pd.read_sql_query(sql_query,con)\n",
    "len(df)"
   ]
  },
  {
   "cell_type": "code",
   "execution_count": 68,
   "metadata": {
    "collapsed": false
   },
   "outputs": [
    {
     "data": {
      "text/html": [
       "<div>\n",
       "<table border=\"1\" class=\"dataframe\">\n",
       "  <thead>\n",
       "    <tr style=\"text-align: right;\">\n",
       "      <th></th>\n",
       "      <th>id</th>\n",
       "      <th>bust</th>\n",
       "      <th>waist</th>\n",
       "      <th>hips</th>\n",
       "      <th>front_length</th>\n",
       "      <th>back_length</th>\n",
       "      <th>inseam</th>\n",
       "      <th>sleeve_length</th>\n",
       "      <th>measurable_id</th>\n",
       "      <th>measurable_type</th>\n",
       "      <th>created_at</th>\n",
       "      <th>updated_at</th>\n",
       "      <th>size</th>\n",
       "      <th>height</th>\n",
       "    </tr>\n",
       "  </thead>\n",
       "  <tbody>\n",
       "    <tr>\n",
       "      <th>0</th>\n",
       "      <td>1</td>\n",
       "      <td>30\"</td>\n",
       "      <td>25\"</td>\n",
       "      <td>37\"</td>\n",
       "      <td></td>\n",
       "      <td></td>\n",
       "      <td></td>\n",
       "      <td></td>\n",
       "      <td>3989</td>\n",
       "      <td>Item</td>\n",
       "      <td>2016-01-29 16:10:35.014028</td>\n",
       "      <td>2016-01-29 16:10:35.014028</td>\n",
       "      <td>None</td>\n",
       "      <td>None</td>\n",
       "    </tr>\n",
       "    <tr>\n",
       "      <th>1</th>\n",
       "      <td>2</td>\n",
       "      <td>33</td>\n",
       "      <td></td>\n",
       "      <td></td>\n",
       "      <td>35.5</td>\n",
       "      <td>35.5</td>\n",
       "      <td></td>\n",
       "      <td></td>\n",
       "      <td>3164</td>\n",
       "      <td>Item</td>\n",
       "      <td>2016-01-29 16:11:00.845840</td>\n",
       "      <td>2016-01-29 16:11:00.845840</td>\n",
       "      <td>None</td>\n",
       "      <td>None</td>\n",
       "    </tr>\n",
       "    <tr>\n",
       "      <th>2</th>\n",
       "      <td>3</td>\n",
       "      <td>30</td>\n",
       "      <td>48</td>\n",
       "      <td>64</td>\n",
       "      <td>63</td>\n",
       "      <td></td>\n",
       "      <td></td>\n",
       "      <td></td>\n",
       "      <td>3157</td>\n",
       "      <td>Item</td>\n",
       "      <td>2016-01-29 16:12:23.741439</td>\n",
       "      <td>2016-01-29 16:12:23.741439</td>\n",
       "      <td>None</td>\n",
       "      <td>None</td>\n",
       "    </tr>\n",
       "    <tr>\n",
       "      <th>3</th>\n",
       "      <td>4</td>\n",
       "      <td>28</td>\n",
       "      <td>32</td>\n",
       "      <td>34</td>\n",
       "      <td>31</td>\n",
       "      <td>31</td>\n",
       "      <td></td>\n",
       "      <td></td>\n",
       "      <td>3973</td>\n",
       "      <td>Item</td>\n",
       "      <td>2016-01-29 16:13:23.944177</td>\n",
       "      <td>2016-01-29 16:13:23.944177</td>\n",
       "      <td>None</td>\n",
       "      <td>None</td>\n",
       "    </tr>\n",
       "    <tr>\n",
       "      <th>4</th>\n",
       "      <td>5</td>\n",
       "      <td>29</td>\n",
       "      <td>28</td>\n",
       "      <td>32</td>\n",
       "      <td>53</td>\n",
       "      <td>53</td>\n",
       "      <td></td>\n",
       "      <td></td>\n",
       "      <td>3051</td>\n",
       "      <td>Item</td>\n",
       "      <td>2016-01-29 16:14:58.595790</td>\n",
       "      <td>2016-01-29 16:14:58.595790</td>\n",
       "      <td>None</td>\n",
       "      <td>None</td>\n",
       "    </tr>\n",
       "  </tbody>\n",
       "</table>\n",
       "</div>"
      ],
      "text/plain": [
       "   id bust waist hips front_length back_length inseam sleeve_length  \\\n",
       "0   1  30\"   25\"  37\"                                                 \n",
       "1   2   33                    35.5        35.5                        \n",
       "2   3   30    48   64           63                                    \n",
       "3   4   28    32   34           31          31                        \n",
       "4   5   29    28   32           53          53                        \n",
       "\n",
       "   measurable_id measurable_type                 created_at  \\\n",
       "0           3989            Item 2016-01-29 16:10:35.014028   \n",
       "1           3164            Item 2016-01-29 16:11:00.845840   \n",
       "2           3157            Item 2016-01-29 16:12:23.741439   \n",
       "3           3973            Item 2016-01-29 16:13:23.944177   \n",
       "4           3051            Item 2016-01-29 16:14:58.595790   \n",
       "\n",
       "                  updated_at  size height  \n",
       "0 2016-01-29 16:10:35.014028  None   None  \n",
       "1 2016-01-29 16:11:00.845840  None   None  \n",
       "2 2016-01-29 16:12:23.741439  None   None  \n",
       "3 2016-01-29 16:13:23.944177  None   None  \n",
       "4 2016-01-29 16:14:58.595790  None   None  "
      ]
     },
     "execution_count": 68,
     "metadata": {},
     "output_type": "execute_result"
    }
   ],
   "source": [
    "df.head()"
   ]
  },
  {
   "cell_type": "code",
   "execution_count": 65,
   "metadata": {
    "collapsed": false
   },
   "outputs": [
    {
     "data": {
      "text/html": [
       "<div>\n",
       "<table border=\"1\" class=\"dataframe\">\n",
       "  <thead>\n",
       "    <tr style=\"text-align: right;\">\n",
       "      <th></th>\n",
       "      <th>id</th>\n",
       "      <th>item_id</th>\n",
       "      <th>order_id</th>\n",
       "      <th>created_at</th>\n",
       "      <th>updated_at</th>\n",
       "      <th>used</th>\n",
       "      <th>user_id</th>\n",
       "    </tr>\n",
       "  </thead>\n",
       "  <tbody>\n",
       "    <tr>\n",
       "      <th>0</th>\n",
       "      <td>34</td>\n",
       "      <td>128</td>\n",
       "      <td>30</td>\n",
       "      <td>2014-07-25 18:02:09.155889</td>\n",
       "      <td>2014-07-25 18:02:09.155889</td>\n",
       "      <td>False</td>\n",
       "      <td>2166</td>\n",
       "    </tr>\n",
       "    <tr>\n",
       "      <th>1</th>\n",
       "      <td>35</td>\n",
       "      <td>769</td>\n",
       "      <td>31</td>\n",
       "      <td>2014-07-25 19:20:33.839328</td>\n",
       "      <td>2014-07-25 19:49:14.959342</td>\n",
       "      <td>True</td>\n",
       "      <td>6420</td>\n",
       "    </tr>\n",
       "    <tr>\n",
       "      <th>2</th>\n",
       "      <td>33</td>\n",
       "      <td>669</td>\n",
       "      <td>30</td>\n",
       "      <td>2014-07-25 18:02:09.151122</td>\n",
       "      <td>2014-07-25 19:50:36.072650</td>\n",
       "      <td>True</td>\n",
       "      <td>2166</td>\n",
       "    </tr>\n",
       "    <tr>\n",
       "      <th>3</th>\n",
       "      <td>32</td>\n",
       "      <td>705</td>\n",
       "      <td>29</td>\n",
       "      <td>2014-07-24 22:26:18.985722</td>\n",
       "      <td>2014-07-25 19:51:01.327822</td>\n",
       "      <td>True</td>\n",
       "      <td>5693</td>\n",
       "    </tr>\n",
       "    <tr>\n",
       "      <th>4</th>\n",
       "      <td>37</td>\n",
       "      <td>646</td>\n",
       "      <td>33</td>\n",
       "      <td>2014-07-25 22:40:06.388214</td>\n",
       "      <td>2014-07-25 22:40:06.388214</td>\n",
       "      <td>False</td>\n",
       "      <td>5021</td>\n",
       "    </tr>\n",
       "  </tbody>\n",
       "</table>\n",
       "</div>"
      ],
      "text/plain": [
       "   id  item_id  order_id                 created_at  \\\n",
       "0  34      128        30 2014-07-25 18:02:09.155889   \n",
       "1  35      769        31 2014-07-25 19:20:33.839328   \n",
       "2  33      669        30 2014-07-25 18:02:09.151122   \n",
       "3  32      705        29 2014-07-24 22:26:18.985722   \n",
       "4  37      646        33 2014-07-25 22:40:06.388214   \n",
       "\n",
       "                  updated_at   used  user_id  \n",
       "0 2014-07-25 18:02:09.155889  False     2166  \n",
       "1 2014-07-25 19:49:14.959342   True     6420  \n",
       "2 2014-07-25 19:50:36.072650   True     2166  \n",
       "3 2014-07-25 19:51:01.327822   True     5693  \n",
       "4 2014-07-25 22:40:06.388214  False     5021  "
      ]
     },
     "execution_count": 65,
     "metadata": {},
     "output_type": "execute_result"
    }
   ],
   "source": [
    "df['date_time'] = df['created_at']"
   ]
  },
  {
   "cell_type": "code",
   "execution_count": null,
   "metadata": {
    "collapsed": true
   },
   "outputs": [],
   "source": []
  }
 ],
 "metadata": {
  "anaconda-cloud": {},
  "kernelspec": {
   "display_name": "Python [Root]",
   "language": "python",
   "name": "Python [Root]"
  },
  "language_info": {
   "codemirror_mode": {
    "name": "ipython",
    "version": 3
   },
   "file_extension": ".py",
   "mimetype": "text/x-python",
   "name": "python",
   "nbconvert_exporter": "python",
   "pygments_lexer": "ipython3",
   "version": "3.5.2"
  }
 },
 "nbformat": 4,
 "nbformat_minor": 0
}
