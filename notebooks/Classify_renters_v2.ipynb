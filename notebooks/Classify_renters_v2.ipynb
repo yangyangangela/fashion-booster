{
 "cells": [
  {
   "cell_type": "code",
   "execution_count": 144,
   "metadata": {
    "collapsed": true
   },
   "outputs": [],
   "source": [
    "%load_ext autoreload\n",
    "\n",
    "%autoreload 1"
   ]
  },
  {
   "cell_type": "code",
   "execution_count": 1,
   "metadata": {
    "collapsed": true
   },
   "outputs": [],
   "source": [
    "from sqlalchemy import create_engine\n",
    "from sqlalchemy_utils import database_exists, create_database\n",
    "import psycopg2\n",
    "import pandas as pd\n",
    "import matplotlib.pyplot as plt\n",
    "import numpy as np\n",
    "%matplotlib inline\n",
    "\n",
    "dbname = 'mylocaldb' \n",
    "username = 'yangyang'\n",
    "\n",
    "con = None\n",
    "con = psycopg2.connect(database = dbname, user = username)"
   ]
  },
  {
   "cell_type": "markdown",
   "metadata": {},
   "source": [
    "Here is the sql query to get all the data for renter_classifier."
   ]
  },
  {
   "cell_type": "code",
   "execution_count": 2,
   "metadata": {},
   "outputs": [
    {
     "data": {
      "text/html": [
       "<div>\n",
       "<table border=\"1\" class=\"dataframe\">\n",
       "  <thead>\n",
       "    <tr style=\"text-align: right;\">\n",
       "      <th></th>\n",
       "      <th>id</th>\n",
       "      <th>created_at</th>\n",
       "      <th>sign_in_count</th>\n",
       "      <th>email</th>\n",
       "      <th>gender</th>\n",
       "      <th>city</th>\n",
       "      <th>date_of_birth</th>\n",
       "      <th>last_sign_in_ip</th>\n",
       "      <th>provide_phone</th>\n",
       "      <th>registered_by_fb</th>\n",
       "      <th>wish_items</th>\n",
       "      <th>total_orders</th>\n",
       "      <th>total_cost</th>\n",
       "    </tr>\n",
       "  </thead>\n",
       "  <tbody>\n",
       "    <tr>\n",
       "      <th>0</th>\n",
       "      <td>19144</td>\n",
       "      <td>2016-04-10 14:32:00.723492</td>\n",
       "      <td>4</td>\n",
       "      <td>themudpie@msn.com</td>\n",
       "      <td>female</td>\n",
       "      <td>Kingwood</td>\n",
       "      <td>1972-05-21</td>\n",
       "      <td>108.162.220.59</td>\n",
       "      <td>True</td>\n",
       "      <td>True</td>\n",
       "      <td>1.0</td>\n",
       "      <td>1.0</td>\n",
       "      <td>64.0</td>\n",
       "    </tr>\n",
       "    <tr>\n",
       "      <th>1</th>\n",
       "      <td>20734</td>\n",
       "      <td>2016-05-19 01:44:27.848269</td>\n",
       "      <td>13</td>\n",
       "      <td>liyaaklilu@yahoo.com</td>\n",
       "      <td>None</td>\n",
       "      <td>Ardsley</td>\n",
       "      <td>None</td>\n",
       "      <td>108.162.218.47</td>\n",
       "      <td>True</td>\n",
       "      <td>False</td>\n",
       "      <td>NaN</td>\n",
       "      <td>1.0</td>\n",
       "      <td>79.0</td>\n",
       "    </tr>\n",
       "    <tr>\n",
       "      <th>2</th>\n",
       "      <td>28404</td>\n",
       "      <td>2017-07-26 00:13:38.340671</td>\n",
       "      <td>14</td>\n",
       "      <td>lihu.vassar@gmail.com</td>\n",
       "      <td>female</td>\n",
       "      <td>New York</td>\n",
       "      <td>1989-05-28</td>\n",
       "      <td>162.158.255.85</td>\n",
       "      <td>True</td>\n",
       "      <td>True</td>\n",
       "      <td>NaN</td>\n",
       "      <td>1.0</td>\n",
       "      <td>59.0</td>\n",
       "    </tr>\n",
       "    <tr>\n",
       "      <th>3</th>\n",
       "      <td>21516</td>\n",
       "      <td>2016-07-13 13:44:42.945117</td>\n",
       "      <td>62</td>\n",
       "      <td>laniehalpern@yahoo.com</td>\n",
       "      <td>female</td>\n",
       "      <td>New York</td>\n",
       "      <td>1994-12-14</td>\n",
       "      <td>173.245.52.60</td>\n",
       "      <td>True</td>\n",
       "      <td>True</td>\n",
       "      <td>2.0</td>\n",
       "      <td>1.0</td>\n",
       "      <td>164.0</td>\n",
       "    </tr>\n",
       "    <tr>\n",
       "      <th>4</th>\n",
       "      <td>21313</td>\n",
       "      <td>2016-06-28 14:38:04.082623</td>\n",
       "      <td>331</td>\n",
       "      <td>amyferan@hotmail.com</td>\n",
       "      <td>None</td>\n",
       "      <td>Newark</td>\n",
       "      <td>None</td>\n",
       "      <td>162.158.62.9</td>\n",
       "      <td>True</td>\n",
       "      <td>False</td>\n",
       "      <td>31.0</td>\n",
       "      <td>5.0</td>\n",
       "      <td>249.0</td>\n",
       "    </tr>\n",
       "  </tbody>\n",
       "</table>\n",
       "</div>"
      ],
      "text/plain": [
       "      id                 created_at  sign_in_count                   email  \\\n",
       "0  19144 2016-04-10 14:32:00.723492              4       themudpie@msn.com   \n",
       "1  20734 2016-05-19 01:44:27.848269             13    liyaaklilu@yahoo.com   \n",
       "2  28404 2017-07-26 00:13:38.340671             14   lihu.vassar@gmail.com   \n",
       "3  21516 2016-07-13 13:44:42.945117             62  laniehalpern@yahoo.com   \n",
       "4  21313 2016-06-28 14:38:04.082623            331    amyferan@hotmail.com   \n",
       "\n",
       "   gender      city date_of_birth last_sign_in_ip provide_phone  \\\n",
       "0  female  Kingwood    1972-05-21  108.162.220.59          True   \n",
       "1    None   Ardsley          None  108.162.218.47          True   \n",
       "2  female  New York    1989-05-28  162.158.255.85          True   \n",
       "3  female  New York    1994-12-14   173.245.52.60          True   \n",
       "4    None    Newark          None    162.158.62.9          True   \n",
       "\n",
       "  registered_by_fb  wish_items  total_orders  total_cost  \n",
       "0             True         1.0           1.0        64.0  \n",
       "1            False         NaN           1.0        79.0  \n",
       "2             True         NaN           1.0        59.0  \n",
       "3             True         2.0           1.0       164.0  \n",
       "4            False        31.0           5.0       249.0  "
      ]
     },
     "execution_count": 2,
     "metadata": {},
     "output_type": "execute_result"
    }
   ],
   "source": [
    "sql_query=\"\"\"\n",
    "SELECT u.id, u.created_at, u.sign_in_count, u.email, u.gender, u.city, u.date_of_birth,\n",
    "u.last_sign_in_ip,\n",
    "(u.phone is not null) as provide_phone, (u.account_type='facebook') as registered_by_fb,\n",
    "w.wish_items,\n",
    "r.total_orders, r.total_cost\n",
    "FROM users as u\n",
    "LEFT JOIN\n",
    "(\n",
    "SELECT user_id, COUNT(item_id) as wish_items\n",
    "FROM item_wishlists\n",
    "GROUP BY user_id\n",
    ") as w\n",
    "ON u.id=w.user_id\n",
    "LEFT JOIN\n",
    "(\n",
    "SELECT renter_id, COUNT(total_cost) as total_orders, SUM(total_cost) as total_cost\n",
    "FROM rentals\n",
    "GROUP BY \n",
    "renter_id\n",
    ") as r\n",
    "on r.renter_id = u.id\n",
    "\n",
    "\"\"\"\n",
    "df = pd.read_sql_query(sql_query,con)\n",
    "df.head(5)"
   ]
  },
  {
   "cell_type": "markdown",
   "metadata": {},
   "source": [
    "# Feature engineering"
   ]
  },
  {
   "cell_type": "markdown",
   "metadata": {},
   "source": [
    "Add a feature on email type."
   ]
  },
  {
   "cell_type": "code",
   "execution_count": 9,
   "metadata": {
    "collapsed": true
   },
   "outputs": [],
   "source": [
    "def email_category(x):\n",
    "    if 'msn' in x:\n",
    "        return 'msn'\n",
    "    elif 'yahoo' in x:\n",
    "        return 'yahoo'\n",
    "    elif 'gmail' in x:\n",
    "        return 'gmail'\n",
    "    elif 'hotmail' in x or 'live.com' in x:\n",
    "        return 'hotmail_or_live'\n",
    "    elif '.edu' in x:\n",
    "        return 'edu'\n",
    "    elif 'comcast' in x or 'aol.com' in x or 'att.net' in x or 'verizon.net' in x:\n",
    "        return 'comcast_aol_att'\n",
    "    elif 'icloud' in x or 'me.com' in x or 'mac.com' in x:\n",
    "        return 'icloud'\n",
    "    elif 'qq' in x:\n",
    "        return 'qq'\n",
    "    elif 'outlook' in x:\n",
    "        return 'outlook'\n",
    "    else:\n",
    "        return 'others'\n",
    "    \n",
    "df['email_type'] = df['email'].apply(email_category)"
   ]
  },
  {
   "cell_type": "code",
   "execution_count": 10,
   "metadata": {},
   "outputs": [
    {
     "data": {
      "text/plain": [
       "<matplotlib.axes._subplots.AxesSubplot at 0x11a215240>"
      ]
     },
     "execution_count": 10,
     "metadata": {},
     "output_type": "execute_result"
    },
    {
     "data": {
      "image/png": "[encoded data removed]",
      "text/plain": [
       "<matplotlib.figure.Figure at 0x11a1712b0>"
      ]
     },
     "metadata": {},
     "output_type": "display_data"
    }
   ],
   "source": [
    "df['email_type'].value_counts().plot(kind='bar')"
   ]
  },
  {
   "cell_type": "markdown",
   "metadata": {},
   "source": [
    "Add the city code. As the following shows, New York and San Francisco are the biggest users, 10 times larger than the third place Newark. Since 3% of the users becoming renter, we select the citis with more than 300 users."
   ]
  },
  {
   "cell_type": "code",
   "execution_count": 11,
   "metadata": {},
   "outputs": [
    {
     "data": {
      "text/plain": [
       "New York         7015\n",
       "San Francisco    4333\n",
       "Newark            790\n",
       "Los Angeles       690\n",
       "San Jose          547\n",
       "Chicago           522\n",
       "Dallas            470\n",
       "Atlanta           386\n",
       "Ashburn           366\n",
       "                  312\n",
       "Miami             269\n",
       "London            218\n",
       "Name: city, dtype: int64"
      ]
     },
     "execution_count": 11,
     "metadata": {},
     "output_type": "execute_result"
    }
   ],
   "source": [
    "a = df['city'].value_counts().sort_values(ascending=False)\n",
    "a[a>200]"
   ]
  },
  {
   "cell_type": "markdown",
   "metadata": {},
   "source": [
    "Because 25% of the addresses are missing. I use the last sign in IP to approximate the address of the user. Try city vs. city_ip, which one is better?"
   ]
  },
  {
   "cell_type": "code",
   "execution_count": 12,
   "metadata": {},
   "outputs": [
    {
     "ename": "FileNotFoundError",
     "evalue": "[Errno 2] No such file or directory: '/Users/yangyang/Documents/Study/Insight/project/notebooks/GeoLiteCity.dat'",
     "output_type": "error",
     "traceback": [
      "\u001b[0;31m---------------------------------------------------------------------------\u001b[0m",
      "\u001b[0;31mFileNotFoundError\u001b[0m                         Traceback (most recent call last)",
      "\u001b[0;32m<ipython-input-12-0468cda6f280>\u001b[0m in \u001b[0;36m<module>\u001b[0;34m()\u001b[0m\n\u001b[1;32m      2\u001b[0m \u001b[0;34m\u001b[0m\u001b[0m\n\u001b[1;32m      3\u001b[0m \u001b[0mdata_path\u001b[0m\u001b[0;34m=\u001b[0m\u001b[0;34m\"/Users/yangyang/Documents/Study/Insight/project/notebooks/GeoLiteCity.dat\"\u001b[0m\u001b[0;34m\u001b[0m\u001b[0m\n\u001b[0;32m----> 4\u001b[0;31m \u001b[0mgi\u001b[0m \u001b[0;34m=\u001b[0m \u001b[0mpygeoip\u001b[0m\u001b[0;34m.\u001b[0m\u001b[0mGeoIP\u001b[0m\u001b[0;34m(\u001b[0m\u001b[0mdata_path\u001b[0m\u001b[0;34m,\u001b[0m \u001b[0mpygeoip\u001b[0m\u001b[0;34m.\u001b[0m\u001b[0mMEMORY_CACHE\u001b[0m\u001b[0;34m)\u001b[0m\u001b[0;34m\u001b[0m\u001b[0m\n\u001b[0m\u001b[1;32m      5\u001b[0m \u001b[0;34m\u001b[0m\u001b[0m\n\u001b[1;32m      6\u001b[0m \u001b[0mcountry_data_path\u001b[0m \u001b[0;34m=\u001b[0m \u001b[0;34m'/Users/yangyang/Documents/Study/Insight/project/notebooks/GeoIP.dat'\u001b[0m\u001b[0;34m\u001b[0m\u001b[0m\n",
      "\u001b[0;32m//anaconda/lib/python3.5/site-packages/pygeoip/__init__.py\u001b[0m in \u001b[0;36m__init__\u001b[0;34m(self, filename, flags, cache)\u001b[0m\n\u001b[1;32m    110\u001b[0m             \u001b[0mf\u001b[0m\u001b[0;34m.\u001b[0m\u001b[0mclose\u001b[0m\u001b[0;34m(\u001b[0m\u001b[0;34m)\u001b[0m\u001b[0;34m\u001b[0m\u001b[0m\n\u001b[1;32m    111\u001b[0m         \u001b[0;32melif\u001b[0m \u001b[0mself\u001b[0m\u001b[0;34m.\u001b[0m\u001b[0m_flags\u001b[0m \u001b[0;34m&\u001b[0m \u001b[0mconst\u001b[0m\u001b[0;34m.\u001b[0m\u001b[0mMEMORY_CACHE\u001b[0m\u001b[0;34m:\u001b[0m\u001b[0;34m\u001b[0m\u001b[0m\n\u001b[0;32m--> 112\u001b[0;31m             \u001b[0mf\u001b[0m \u001b[0;34m=\u001b[0m \u001b[0mcodecs\u001b[0m\u001b[0;34m.\u001b[0m\u001b[0mopen\u001b[0m\u001b[0;34m(\u001b[0m\u001b[0mfilename\u001b[0m\u001b[0;34m,\u001b[0m \u001b[0;34m'rb'\u001b[0m\u001b[0;34m,\u001b[0m \u001b[0mENCODING\u001b[0m\u001b[0;34m)\u001b[0m\u001b[0;34m\u001b[0m\u001b[0m\n\u001b[0m\u001b[1;32m    113\u001b[0m             \u001b[0mself\u001b[0m\u001b[0;34m.\u001b[0m\u001b[0m_memory\u001b[0m \u001b[0;34m=\u001b[0m \u001b[0mf\u001b[0m\u001b[0;34m.\u001b[0m\u001b[0mread\u001b[0m\u001b[0;34m(\u001b[0m\u001b[0;34m)\u001b[0m\u001b[0;34m\u001b[0m\u001b[0m\n\u001b[1;32m    114\u001b[0m             \u001b[0mself\u001b[0m\u001b[0;34m.\u001b[0m\u001b[0m_fp\u001b[0m \u001b[0;34m=\u001b[0m \u001b[0mutil\u001b[0m\u001b[0;34m.\u001b[0m\u001b[0mstr2fp\u001b[0m\u001b[0;34m(\u001b[0m\u001b[0mself\u001b[0m\u001b[0;34m.\u001b[0m\u001b[0m_memory\u001b[0m\u001b[0;34m)\u001b[0m\u001b[0;34m\u001b[0m\u001b[0m\n",
      "\u001b[0;32m//anaconda/lib/python3.5/codecs.py\u001b[0m in \u001b[0;36mopen\u001b[0;34m(filename, mode, encoding, errors, buffering)\u001b[0m\n\u001b[1;32m    893\u001b[0m         \u001b[0;31m# Force opening of the file in binary mode\u001b[0m\u001b[0;34m\u001b[0m\u001b[0;34m\u001b[0m\u001b[0m\n\u001b[1;32m    894\u001b[0m         \u001b[0mmode\u001b[0m \u001b[0;34m=\u001b[0m \u001b[0mmode\u001b[0m \u001b[0;34m+\u001b[0m \u001b[0;34m'b'\u001b[0m\u001b[0;34m\u001b[0m\u001b[0m\n\u001b[0;32m--> 895\u001b[0;31m     \u001b[0mfile\u001b[0m \u001b[0;34m=\u001b[0m \u001b[0mbuiltins\u001b[0m\u001b[0;34m.\u001b[0m\u001b[0mopen\u001b[0m\u001b[0;34m(\u001b[0m\u001b[0mfilename\u001b[0m\u001b[0;34m,\u001b[0m \u001b[0mmode\u001b[0m\u001b[0;34m,\u001b[0m \u001b[0mbuffering\u001b[0m\u001b[0;34m)\u001b[0m\u001b[0;34m\u001b[0m\u001b[0m\n\u001b[0m\u001b[1;32m    896\u001b[0m     \u001b[0;32mif\u001b[0m \u001b[0mencoding\u001b[0m \u001b[0;32mis\u001b[0m \u001b[0;32mNone\u001b[0m\u001b[0;34m:\u001b[0m\u001b[0;34m\u001b[0m\u001b[0m\n\u001b[1;32m    897\u001b[0m         \u001b[0;32mreturn\u001b[0m \u001b[0mfile\u001b[0m\u001b[0;34m\u001b[0m\u001b[0m\n",
      "\u001b[0;31mFileNotFoundError\u001b[0m: [Errno 2] No such file or directory: '/Users/yangyang/Documents/Study/Insight/project/notebooks/GeoLiteCity.dat'"
     ]
    }
   ],
   "source": [
    "import pygeoip\n",
    "\n",
    "data_path=\"/Users/yangyang/Documents/Study/Insight/project/notebooks/GeoLiteCity.dat\"\n",
    "gi = pygeoip.GeoIP(data_path, pygeoip.MEMORY_CACHE)\n",
    "\n",
    "country_data_path = '/Users/yangyang/Documents/Study/Insight/project/notebooks/GeoIP.dat'\n",
    "gi_country = pygeoip.GeoIP(country_data_path,pygeoip.MEMORY_CACHE)\n",
    "\n",
    "\n",
    "def ip_to_city(ip,gi):\n",
    "    try:\n",
    "        return gi.record_by_addr(ip)['city']\n",
    "    except:\n",
    "        return np.nan\n",
    "    \n",
    "def ip_to_country(ip,gi):\n",
    "    try:\n",
    "        return gi.country_code_by_addr(ip)\n",
    "    except:\n",
    "        return np.nan\n",
    "\n",
    "df['city_by_ip'] = df['last_sign_in_ip'].apply(lambda x: ip_to_city(x, gi))\n",
    "#df['country_by_ip'] = df['last_sign_in_ip'].apply(lambda x: ip_to_country(x, gi_country))"
   ]
  },
  {
   "cell_type": "markdown",
   "metadata": {
    "collapsed": true
   },
   "source": [
    "Too many miss match between city and city_by_ip."
   ]
  },
  {
   "cell_type": "code",
   "execution_count": 35,
   "metadata": {},
   "outputs": [
    {
     "data": {
      "text/html": [
       "<div>\n",
       "<table border=\"1\" class=\"dataframe\">\n",
       "  <thead>\n",
       "    <tr style=\"text-align: right;\">\n",
       "      <th></th>\n",
       "      <th>city</th>\n",
       "      <th>city_by_ip</th>\n",
       "    </tr>\n",
       "  </thead>\n",
       "  <tbody>\n",
       "    <tr>\n",
       "      <th>0</th>\n",
       "      <td>Kingwood</td>\n",
       "      <td>Dallas</td>\n",
       "    </tr>\n",
       "    <tr>\n",
       "      <th>1</th>\n",
       "      <td>Ardsley</td>\n",
       "      <td>Newark</td>\n",
       "    </tr>\n",
       "    <tr>\n",
       "      <th>2</th>\n",
       "      <td>New York</td>\n",
       "      <td>San Jose</td>\n",
       "    </tr>\n",
       "    <tr>\n",
       "      <th>3</th>\n",
       "      <td>New York</td>\n",
       "      <td>Newark</td>\n",
       "    </tr>\n",
       "    <tr>\n",
       "      <th>5</th>\n",
       "      <td>san francisco</td>\n",
       "      <td>San Jose</td>\n",
       "    </tr>\n",
       "  </tbody>\n",
       "</table>\n",
       "</div>"
      ],
      "text/plain": [
       "            city city_by_ip\n",
       "0       Kingwood     Dallas\n",
       "1        Ardsley     Newark\n",
       "2       New York   San Jose\n",
       "3       New York     Newark\n",
       "5  san francisco   San Jose"
      ]
     },
     "execution_count": 35,
     "metadata": {},
     "output_type": "execute_result"
    }
   ],
   "source": [
    "df.loc[df['city_by_ip'] != df['city'],['city','city_by_ip']].head()"
   ]
  },
  {
   "cell_type": "code",
   "execution_count": 1,
   "metadata": {},
   "outputs": [
    {
     "ename": "NameError",
     "evalue": "name 'df' is not defined",
     "output_type": "error",
     "traceback": [
      "\u001b[0;31m---------------------------------------------------------------------------\u001b[0m",
      "\u001b[0;31mNameError\u001b[0m                                 Traceback (most recent call last)",
      "\u001b[0;32m<ipython-input-1-1fa6b9e9e4a8>\u001b[0m in \u001b[0;36m<module>\u001b[0;34m()\u001b[0m\n\u001b[1;32m     24\u001b[0m         \u001b[0;32mreturn\u001b[0m \u001b[0;34m'No address'\u001b[0m\u001b[0;34m\u001b[0m\u001b[0m\n\u001b[1;32m     25\u001b[0m \u001b[0;34m\u001b[0m\u001b[0m\n\u001b[0;32m---> 26\u001b[0;31m \u001b[0mdf\u001b[0m\u001b[0;34m[\u001b[0m\u001b[0;34m'city_type'\u001b[0m\u001b[0;34m]\u001b[0m \u001b[0;34m=\u001b[0m \u001b[0mdf\u001b[0m\u001b[0;34m[\u001b[0m\u001b[0;34m'city'\u001b[0m\u001b[0;34m]\u001b[0m\u001b[0;34m.\u001b[0m\u001b[0mapply\u001b[0m\u001b[0;34m(\u001b[0m\u001b[0mcity_category\u001b[0m\u001b[0;34m)\u001b[0m\u001b[0;34m\u001b[0m\u001b[0m\n\u001b[0m\u001b[1;32m     27\u001b[0m \u001b[0;31m#df['country_type'] = df['country_by_ip'].apply(lambda x: 'US' if x=='US' else 'Others')\u001b[0m\u001b[0;34m\u001b[0m\u001b[0;34m\u001b[0m\u001b[0m\n",
      "\u001b[0;31mNameError\u001b[0m: name 'df' is not defined"
     ]
    }
   ],
   "source": [
    "def city_category(x):\n",
    "    try:\n",
    "        if 'New York' in x:\n",
    "            return 'New York'\n",
    "        elif 'Francisco' in x:\n",
    "            return 'San Francisco'\n",
    "        elif 'Newark' in x:\n",
    "            return 'Newark'\n",
    "        elif 'Los Angeles' in x:\n",
    "            return 'Los Angeles'\n",
    "        elif 'San Jose' in x:\n",
    "            return 'San Jose'\n",
    "        elif 'Chicago' in x:\n",
    "            return 'Chicago'\n",
    "        elif 'Dallas' in x:\n",
    "            return 'Dallas'\n",
    "        elif 'Atlanta' in x:\n",
    "            return 'Atlanta'\n",
    "        elif 'Ashburn' in x:\n",
    "            return 'Ashburn'\n",
    "        else:\n",
    "            return 'Others'\n",
    "    except:\n",
    "        return 'No address'\n",
    "\n",
    "df['city_type'] = df['city'].apply(city_category)\n",
    "#df['country_type'] = df['country_by_ip'].apply(lambda x: 'US' if x=='US' else 'Others')"
   ]
  },
  {
   "cell_type": "code",
   "execution_count": 14,
   "metadata": {},
   "outputs": [
    {
     "data": {
      "text/plain": [
       "<matplotlib.axes._subplots.AxesSubplot at 0x11985cbe0>"
      ]
     },
     "execution_count": 14,
     "metadata": {},
     "output_type": "execute_result"
    },
    {
     "data": {
      "image/png": "[encoded data removed]",
      "text/plain": [
       "<matplotlib.figure.Figure at 0x11985c320>"
      ]
     },
     "metadata": {},
     "output_type": "display_data"
    }
   ],
   "source": [
    "df['city_type'].value_counts().sort_values(ascending=False).plot(kind='bar')"
   ]
  },
  {
   "cell_type": "code",
   "execution_count": 46,
   "metadata": {},
   "outputs": [
    {
     "data": {
      "text/plain": [
       "US        23738\n",
       "Others     4080\n",
       "Name: country_type, dtype: int64"
      ]
     },
     "execution_count": 46,
     "metadata": {},
     "output_type": "execute_result"
    }
   ],
   "source": [
    "#df['country_type'].value_counts()"
   ]
  },
  {
   "cell_type": "code",
   "execution_count": 15,
   "metadata": {},
   "outputs": [
    {
     "name": "stderr",
     "output_type": "stream",
     "text": [
      "//anaconda/lib/python3.5/site-packages/sklearn/cross_validation.py:41: DeprecationWarning: This module was deprecated in version 0.18 in favor of the model_selection module into which all the refactored classes and functions are moved. Also note that the interface of the new CV iterators are different from that of this module. This module will be removed in 0.20.\n",
      "  \"This module will be removed in 0.20.\", DeprecationWarning)\n"
     ]
    }
   ],
   "source": [
    "import numpy as np\n",
    "np.random.seed(10)\n",
    "\n",
    "import matplotlib.pyplot as plt\n",
    "\n",
    "from sklearn.datasets import make_classification\n",
    "from sklearn.linear_model import LogisticRegression\n",
    "from sklearn.ensemble import (RandomTreesEmbedding, RandomForestClassifier,\n",
    "                              GradientBoostingClassifier)\n",
    "from sklearn.preprocessing import OneHotEncoder\n",
    "from sklearn.preprocessing import LabelEncoder\n",
    "from sklearn.cross_validation import train_test_split\n",
    "from sklearn.metrics import roc_curve\n",
    "from sklearn.pipeline import make_pipeline"
   ]
  },
  {
   "cell_type": "code",
   "execution_count": 16,
   "metadata": {},
   "outputs": [
    {
     "data": {
      "text/plain": [
       "Index(['id', 'created_at', 'sign_in_count', 'email', 'gender', 'city',\n",
       "       'date_of_birth', 'last_sign_in_ip', 'provide_phone', 'registered_by_fb',\n",
       "       'wish_items', 'total_orders', 'total_cost', 'email_type', 'city_type'],\n",
       "      dtype='object')"
      ]
     },
     "execution_count": 16,
     "metadata": {},
     "output_type": "execute_result"
    }
   ],
   "source": [
    "df.columns"
   ]
  },
  {
   "cell_type": "markdown",
   "metadata": {},
   "source": [
    "Create the data for train"
   ]
  },
  {
   "cell_type": "code",
   "execution_count": 33,
   "metadata": {
    "collapsed": true
   },
   "outputs": [],
   "source": [
    "df['info_items'] = (~df['date_of_birth'].isnull()).astype(int)+\\\n",
    "        (df['provide_phone']).astype(int)+\\\n",
    "        (~df['gender'].isnull()).astype(int)\n",
    "        \n",
    "def categorize_info(x):\n",
    "    if x==0:\n",
    "        return None\n",
    "    elif x==1 or x==2:\n",
    "        return \"Partial Info\"\n",
    "    else:\n",
    "        return \"Complete Info\"\n",
    "df['provide_info'] = df['info_items'].apply(categorize_info)"
   ]
  },
  {
   "cell_type": "code",
   "execution_count": 64,
   "metadata": {
    "collapsed": true
   },
   "outputs": [],
   "source": [
    "from datetime import date\n",
    "\n",
    "def calculate_age(s):\n",
    "    # get the age range\n",
    "    today = date.today()\n",
    "    try:\n",
    "        age = today.year - s.year\n",
    "        if age<25:\n",
    "            return \"under 25\"\n",
    "        elif 25<=age<30:\n",
    "            return \"age25-30\"\n",
    "        elif 30<=age<35:\n",
    "            return \"age30-35\"\n",
    "        elif 35<=age<40:\n",
    "            return \"age35-40\"\n",
    "        else:\n",
    "            return \"40+\"\n",
    "    except:\n",
    "        return \"No_age\"\n",
    "    \n",
    "\n",
    "df['age'] = df['date_of_birth'].apply( calculate_age )\n"
   ]
  },
  {
   "cell_type": "code",
   "execution_count": 65,
   "metadata": {
    "collapsed": true
   },
   "outputs": [],
   "source": [
    "df['wish_items'] = df['wish_items'].fillna(0)"
   ]
  },
  {
   "cell_type": "code",
   "execution_count": 69,
   "metadata": {
    "collapsed": true
   },
   "outputs": [],
   "source": [
    "# categorical features\n",
    "cat_features = ['city_type','registered_by_fb', 'provide_info','age']\n",
    "\n",
    "# continuous \n",
    "cont_features = ['wish_items','sign_in_count']\n",
    "\n",
    "X = df[cat_features+cont_features]\n",
    "X = X.fillna(\"None\")\n",
    "y = ~df['total_orders'].isnull()"
   ]
  },
  {
   "cell_type": "markdown",
   "metadata": {},
   "source": [
    "# Logistic Regression using adf\n",
    "\n",
    "- a mix of categorial and continuous features."
   ]
  },
  {
   "cell_type": "code",
   "execution_count": 70,
   "metadata": {},
   "outputs": [
    {
     "data": {
      "text/html": [
       "<div>\n",
       "<table border=\"1\" class=\"dataframe\">\n",
       "  <thead>\n",
       "    <tr style=\"text-align: right;\">\n",
       "      <th></th>\n",
       "      <th>city_type</th>\n",
       "      <th>registered_by_fb</th>\n",
       "      <th>provide_info</th>\n",
       "      <th>age</th>\n",
       "      <th>wish_items</th>\n",
       "      <th>sign_in_count</th>\n",
       "    </tr>\n",
       "  </thead>\n",
       "  <tbody>\n",
       "    <tr>\n",
       "      <th>0</th>\n",
       "      <td>Others</td>\n",
       "      <td>True</td>\n",
       "      <td>Complete Info</td>\n",
       "      <td>40+</td>\n",
       "      <td>1.0</td>\n",
       "      <td>4</td>\n",
       "    </tr>\n",
       "    <tr>\n",
       "      <th>1</th>\n",
       "      <td>Others</td>\n",
       "      <td>False</td>\n",
       "      <td>Partial Info</td>\n",
       "      <td>No_age</td>\n",
       "      <td>0.0</td>\n",
       "      <td>13</td>\n",
       "    </tr>\n",
       "    <tr>\n",
       "      <th>2</th>\n",
       "      <td>New York</td>\n",
       "      <td>True</td>\n",
       "      <td>Complete Info</td>\n",
       "      <td>age25-30</td>\n",
       "      <td>0.0</td>\n",
       "      <td>14</td>\n",
       "    </tr>\n",
       "    <tr>\n",
       "      <th>3</th>\n",
       "      <td>New York</td>\n",
       "      <td>True</td>\n",
       "      <td>Complete Info</td>\n",
       "      <td>under 25</td>\n",
       "      <td>2.0</td>\n",
       "      <td>62</td>\n",
       "    </tr>\n",
       "    <tr>\n",
       "      <th>4</th>\n",
       "      <td>Newark</td>\n",
       "      <td>False</td>\n",
       "      <td>Partial Info</td>\n",
       "      <td>No_age</td>\n",
       "      <td>31.0</td>\n",
       "      <td>331</td>\n",
       "    </tr>\n",
       "  </tbody>\n",
       "</table>\n",
       "</div>"
      ],
      "text/plain": [
       "  city_type registered_by_fb   provide_info       age  wish_items  \\\n",
       "0    Others             True  Complete Info       40+         1.0   \n",
       "1    Others            False   Partial Info    No_age         0.0   \n",
       "2  New York             True  Complete Info  age25-30         0.0   \n",
       "3  New York             True  Complete Info  under 25         2.0   \n",
       "4    Newark            False   Partial Info    No_age        31.0   \n",
       "\n",
       "   sign_in_count  \n",
       "0              4  \n",
       "1             13  \n",
       "2             14  \n",
       "3             62  \n",
       "4            331  "
      ]
     },
     "execution_count": 70,
     "metadata": {},
     "output_type": "execute_result"
    },
    {
     "data": {
      "image/png": "[encoded data removed]",
      "text/plain": [
       "<matplotlib.figure.Figure at 0x11e548710>"
      ]
     },
     "metadata": {},
     "output_type": "display_data"
    }
   ],
   "source": [
    "# downsample\n",
    "X = X[0:2500]\n",
    "y = y[0:2500]\n",
    "y.plot()\n",
    "X.head()"
   ]
  },
  {
   "cell_type": "code",
   "execution_count": 71,
   "metadata": {},
   "outputs": [
    {
     "name": "stderr",
     "output_type": "stream",
     "text": [
      "//anaconda/lib/python3.5/site-packages/ipykernel/__main__.py:13: SettingWithCopyWarning: \n",
      "A value is trying to be set on a copy of a slice from a DataFrame.\n",
      "Try using .loc[row_indexer,col_indexer] = value instead\n",
      "\n",
      "See the caveats in the documentation: http://pandas.pydata.org/pandas-docs/stable/indexing.html#indexing-view-versus-copy\n",
      "//anaconda/lib/python3.5/site-packages/ipykernel/__main__.py:14: SettingWithCopyWarning: \n",
      "A value is trying to be set on a copy of a slice from a DataFrame.\n",
      "Try using .loc[row_indexer,col_indexer] = value instead\n",
      "\n",
      "See the caveats in the documentation: http://pandas.pydata.org/pandas-docs/stable/indexing.html#indexing-view-versus-copy\n"
     ]
    }
   ],
   "source": [
    "from sklearn.preprocessing import OneHotEncoder, LabelEncoder\n",
    "le = LabelEncoder()\n",
    "enc = OneHotEncoder(sparse = False)\n",
    "\n",
    "from sklearn.cross_validation import train_test_split\n",
    "\n",
    "X_train, X_test, y_train, y_test = train_test_split(X, y, random_state=0)\n",
    "\n",
    "for col in X_test.columns.values:\n",
    "    if X_test[col].dtypes ==\"object\":\n",
    "        data = X_train[col].append(X_test[col])\n",
    "        le.fit(data.values)\n",
    "        X_train[col]=le.transform(X_train[col])\n",
    "        X_test[col]=le.transform(X_test[col])"
   ]
  },
  {
   "cell_type": "code",
   "execution_count": 136,
   "metadata": {
    "collapsed": true
   },
   "outputs": [],
   "source": [
    "X_age = X[~(X.age=='No_age')]\n",
    "y_age = y[~(X.age=='No_age')]"
   ]
  },
  {
   "cell_type": "code",
   "execution_count": 133,
   "metadata": {
    "collapsed": true
   },
   "outputs": [],
   "source": [
    "X_dummy = pd.get_dummies(X_age,columns=cat_features)"
   ]
  },
  {
   "cell_type": "code",
   "execution_count": 137,
   "metadata": {
    "collapsed": true
   },
   "outputs": [],
   "source": [
    "X_train, X_test, y_train, y_test = train_test_split(X_dummy, y_age, random_state=0)\n",
    "\n",
    "\n",
    "from sklearn.preprocessing import scale\n",
    "\n",
    "from sklearn.linear_model import LogisticRegression\n",
    "X_train_scale = scale(X_train)\n",
    "X_test_scale = scale(X_test)\n",
    "\n",
    "log = LogisticRegression(penalty='l2',C=1)\n",
    "log.fit(X_train_scale,y_train)\n",
    "\n",
    "\n",
    "from sklearn.metrics import accuracy_score\n",
    "\n",
    "from sklearn import metrics\n",
    "\n",
    "accuracy_score(y_test,log.predict(X_test_scale))\n",
    "\n",
    "print(log.coef_)\n",
    "\n",
    "fi = pd.DataFrame(log.coef_[0],index = X_test.columns.values)\n",
    "\n",
    "fi['ab'] = abs(fi[0])\n",
    "\n",
    "fi = fi.sort_values(['ab'],ascending=False)\n",
    "fi_plot = fi[0:10]\n",
    "fi_plot[0].plot(kind='barh',fontsize=20)\n",
    "plt.xlabel('Feature coeffients',fontsize=20)"
   ]
  },
  {
   "cell_type": "code",
   "execution_count": null,
   "metadata": {
    "collapsed": true
   },
   "outputs": [],
   "source": []
  }
 ],
 "metadata": {
  "anaconda-cloud": {},
  "kernelspec": {
   "display_name": "Python [Root]",
   "language": "python",
   "name": "Python [Root]"
  },
  "language_info": {
   "codemirror_mode": {
    "name": "ipython",
    "version": 3
   },
   "file_extension": ".py",
   "mimetype": "text/x-python",
   "name": "python",
   "nbconvert_exporter": "python",
   "pygments_lexer": "ipython3",
   "version": "3.5.2"
  }
 },
 "nbformat": 4,
 "nbformat_minor": 1
}
